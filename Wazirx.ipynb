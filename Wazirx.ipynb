{
 "metadata": {
  "language_info": {
   "codemirror_mode": {
    "name": "ipython",
    "version": 3
   },
   "file_extension": ".py",
   "mimetype": "text/x-python",
   "name": "python",
   "nbconvert_exporter": "python",
   "pygments_lexer": "ipython3",
   "version": "3.8.5-final"
  },
  "orig_nbformat": 2,
  "kernelspec": {
   "name": "python38264bitc454a1181b904d739a035addff1cc62e",
   "display_name": "Python 3.8.2 64-bit"
  }
 },
 "nbformat": 4,
 "nbformat_minor": 2,
 "cells": [
  {
   "cell_type": "code",
   "execution_count": 1,
   "metadata": {},
   "outputs": [],
   "source": [
    "import requests\n",
    "import pandas as pd\n",
    "import numpy as np"
   ]
  },
  {
   "cell_type": "code",
   "execution_count": 2,
   "metadata": {},
   "outputs": [],
   "source": [
    "buying_Price = int(input(\"Input buying price in INR for BTC: \"))"
   ]
  },
  {
   "cell_type": "code",
   "execution_count": 3,
   "metadata": {},
   "outputs": [],
   "source": [
    "Selling_Price = int(input(\"What should be your selling price for BTC: \"))"
   ]
  },
  {
   "cell_type": "code",
   "execution_count": 5,
   "metadata": {},
   "outputs": [],
   "source": [
    "Volume = input(\"Enter the Volume of the BTC-INR: \")\n",
    "Volume = float(Volume)"
   ]
  },
  {
   "cell_type": "code",
   "execution_count": 6,
   "metadata": {},
   "outputs": [],
   "source": [
    "final_buying_price = (buying_Price)*Volume"
   ]
  },
  {
   "cell_type": "code",
   "execution_count": 7,
   "metadata": {},
   "outputs": [],
   "source": [
    "final_selling_price = (Selling_Price)*Volume"
   ]
  },
  {
   "cell_type": "code",
   "execution_count": 8,
   "metadata": {},
   "outputs": [],
   "source": [
    "makers_fee = 0.002*(buying_Price)*(Volume)\n"
   ]
  },
  {
   "cell_type": "code",
   "execution_count": 9,
   "metadata": {},
   "outputs": [],
   "source": [
    "takers_fee = 0.002*(Selling_Price)*(Volume)"
   ]
  },
  {
   "cell_type": "code",
   "execution_count": 10,
   "metadata": {},
   "outputs": [],
   "source": [
    "Final_fee = makers_fee+takers_fee"
   ]
  },
  {
   "cell_type": "code",
   "execution_count": 11,
   "metadata": {},
   "outputs": [],
   "source": [
    "Profit_inc = (Selling_Price - buying_Price)*Volume\n",
    "Profit_per = (Profit_inc/buying_Price)*100\n"
   ]
  },
  {
   "cell_type": "code",
   "execution_count": 12,
   "metadata": {},
   "outputs": [],
   "source": [
    "Profit_Final = Profit_inc - Final_fee"
   ]
  },
  {
   "cell_type": "code",
   "execution_count": 13,
   "metadata": {},
   "outputs": [],
   "source": [
    "url = \"https://api.wazirx.com/api/v2/trades?market=btcinr\""
   ]
  },
  {
   "cell_type": "code",
   "execution_count": 14,
   "metadata": {},
   "outputs": [],
   "source": [
    "response = requests.get(url)"
   ]
  },
  {
   "cell_type": "code",
   "execution_count": 15,
   "metadata": {},
   "outputs": [],
   "source": [
    "data = response.json()[1]"
   ]
  },
  {
   "cell_type": "code",
   "execution_count": 16,
   "metadata": {},
   "outputs": [],
   "source": [
    "response = requests.get(url)\n",
    "data = response.json()[1]"
   ]
  },
  {
   "cell_type": "code",
   "execution_count": 19,
   "metadata": {},
   "outputs": [
    {
     "output_type": "execute_result",
     "data": {
      "text/plain": [
       "{'id': 12405158,\n",
       " 'market': 'btcinr',\n",
       " 'price': '987700.0',\n",
       " 'volume': '0.0099',\n",
       " 'funds': '9778.23',\n",
       " 'created_at': '2020-10-26T16:03:47+05:30',\n",
       " 'side': None}"
      ]
     },
     "metadata": {},
     "execution_count": 19
    }
   ],
   "source": [
    "data"
   ]
  },
  {
   "cell_type": "code",
   "execution_count": 20,
   "metadata": {},
   "outputs": [],
   "source": [
    "with open(\"BTC_INR.csv\",\"a+\") as fp:\n",
    "    fp.write(f\"\\n{data['market']},{buying_Price},{Selling_Price},{data['price']},{Profit_inc},{Profit_Final},{data['created_at']},{data['volume']},{data['funds']},{data['id']}\")\n"
   ]
  },
  {
   "cell_type": "code",
   "execution_count": null,
   "metadata": {},
   "outputs": [],
   "source": []
  },
  {
   "cell_type": "code",
   "execution_count": null,
   "metadata": {},
   "outputs": [],
   "source": [
    "while True:\n",
    "    response = requests.get(url)\n",
    "    data = response.json()[1]\n",
    "    df = pd.read_csv('BTC_INR.csv', index_col=0)\n",
    "    cur_Profit_inc = (float(data['price']) - buying_Price)*Volume\n",
    "    cur_Profit_per = (Profit_inc/buying_Price)*100\n",
    "    cur_makers_fee = 0.002*(buying_Price)*(Volume)\n",
    "    cur_takers_fee = 0.002*(float(data['price']))*(Volume)\n",
    "    cur_Final_fee = cur_makers_fee + cur_takers_fee\n",
    "    cur_Profit_Final = cur_Profit_inc - cur_Final_fee\n",
    "    if (data[\"id\"] !=  df.iloc[-1,-1]):\n",
    "        with open(\"BTC_INR.csv\",\"a+\") as fp:\n",
    "            fp.seek(0,0)\n",
    "            fp.write(f\"\\n{data['market']},{buying_Price},{Selling_Price},{data['price']},{cur_Profit_inc},{cur_Profit_Final},{data['created_at']},{data['volume']},{data['funds']},{data['id']}\")\n"
   ]
  },
  {
   "cell_type": "code",
   "execution_count": null,
   "metadata": {},
   "outputs": [],
   "source": [
    "df"
   ]
  },
  {
   "cell_type": "code",
   "execution_count": null,
   "metadata": {},
   "outputs": [],
   "source": [
    "df = pd.read_csv('BTC_INR.csv', index_col=0)"
   ]
  },
  {
   "cell_type": "code",
   "execution_count": null,
   "metadata": {},
   "outputs": [],
   "source": [
    "df"
   ]
  },
  {
   "cell_type": "code",
   "execution_count": null,
   "metadata": {},
   "outputs": [],
   "source": []
  }
 ]
}